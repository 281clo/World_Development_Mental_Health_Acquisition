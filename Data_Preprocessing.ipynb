{
 "cells": [
  {
   "cell_type": "markdown",
   "id": "intensive-guitar",
   "metadata": {},
   "source": [
    "Import packages"
   ]
  },
  {
   "cell_type": "code",
   "execution_count": 554,
   "id": "recreational-engagement",
   "metadata": {},
   "outputs": [],
   "source": [
    "import pandas as pd\n",
    "import seaborn as sns\n",
    "import matplotlib.pyplot as plt\n",
    "%matplotlib inline\n",
    "import numpy as np\n",
    "from sklearn.linear_model import LinearRegression\n",
    "from sklearn.model_selection import train_test_split\n",
    "from statsmodels.formula.api import ols\n",
    "from sklearn.preprocessing import StandardScaler\n",
    "from sklearn.preprocessing import OneHotEncoder\n",
    "import plotly as py\n",
    "import plotly.express as px\n",
    "import plotly.graph_objs as go\n",
    "from plotly.subplots import make_subplots\n",
    "from plotly.offline import download_plotlyjs, plot, iplot\n",
    "import sqlite3\n",
    "import Code.Preparation as prep\n",
    "from sklearn.linear_model import LinearRegression\n",
    "from sklearn.compose import make_column_transformer\n",
    "from sklearn.impute import SimpleImputer\n",
    "import statsmodels.api as sm\n",
    "import re\n",
    "from sklearn.metrics import mean_squared_error\n",
    "from sklearn.linear_model import LinearRegression\n",
    "from sklearn.model_selection import TimeSeriesSplit\n",
    "import itertools\n",
    "from statsmodels.tsa.arima.model import ARIMA\n",
    "from statsmodels.tsa.stattools import acf, pacf, adfuller\n",
    "from statsmodels.graphics.tsaplots import plot_acf, plot_pacf\n",
    "from statsmodels.tsa.statespace.sarimax import SARIMAX\n",
    "import warnings\n",
    "warnings.filterwarnings('ignore')"
   ]
  },
  {
   "cell_type": "markdown",
   "id": "allied-environment",
   "metadata": {},
   "source": [
    "### Clean and combine happiness reports dataset"
   ]
  },
  {
   "cell_type": "markdown",
   "id": "continent-aging",
   "metadata": {},
   "source": [
    "Load datasets"
   ]
  },
  {
   "cell_type": "code",
   "execution_count": 763,
   "id": "advance-communication",
   "metadata": {},
   "outputs": [],
   "source": [
    "df2021 = pd.read_csv(prep.path('happy/2021.csv'))\n",
    "df2021['Year'] = 2021"
   ]
  },
  {
   "cell_type": "code",
   "execution_count": 764,
   "id": "cathedral-cholesterol",
   "metadata": {},
   "outputs": [],
   "source": [
    "dfhappy = pd.read_csv(prep.path('happy/world-happiness-report.csv'))"
   ]
  },
  {
   "cell_type": "code",
   "execution_count": 765,
   "id": "established-chassis",
   "metadata": {},
   "outputs": [
    {
     "name": "stdout",
     "output_type": "stream",
     "text": [
      "<class 'pandas.core.frame.DataFrame'>\n",
      "RangeIndex: 1949 entries, 0 to 1948\n",
      "Data columns (total 11 columns):\n",
      " #   Column                            Non-Null Count  Dtype  \n",
      "---  ------                            --------------  -----  \n",
      " 0   Country name                      1949 non-null   object \n",
      " 1   year                              1949 non-null   int64  \n",
      " 2   Life Ladder                       1949 non-null   float64\n",
      " 3   Log GDP per capita                1913 non-null   float64\n",
      " 4   Social support                    1936 non-null   float64\n",
      " 5   Healthy life expectancy at birth  1894 non-null   float64\n",
      " 6   Freedom to make life choices      1917 non-null   float64\n",
      " 7   Generosity                        1860 non-null   float64\n",
      " 8   Perceptions of corruption         1839 non-null   float64\n",
      " 9   Positive affect                   1927 non-null   float64\n",
      " 10  Negative affect                   1933 non-null   float64\n",
      "dtypes: float64(9), int64(1), object(1)\n",
      "memory usage: 167.6+ KB\n"
     ]
    }
   ],
   "source": [
    "dfhappy.info()"
   ]
  },
  {
   "cell_type": "markdown",
   "id": "designing-kazakhstan",
   "metadata": {},
   "source": [
    "Change names to match corresponding columns and merge dataframes"
   ]
  },
  {
   "cell_type": "code",
   "execution_count": 766,
   "id": "collective-result",
   "metadata": {
    "tags": []
   },
   "outputs": [],
   "source": [
    "df2021 = df2021[['Country name','Year', 'Ladder score','Social support','Healthy life expectancy','Logged GDP per capita','Freedom to make life choices','Generosity','Perceptions of corruption']]\n",
    "df2021 = df2021.rename(columns={'Year': 'year', 'Ladder score': 'Life Ladder', 'Healthy life expectancy': 'Healthy life expectancy at birth', 'Logged GDP per capita': 'Log GDP per capita'})\n",
    "dfhappy = dfhappy.merge(df2021, how='outer').drop(columns=['Positive affect', 'Negative affect'])"
   ]
  },
  {
   "cell_type": "markdown",
   "id": "prerequisite-october",
   "metadata": {},
   "source": [
    "Check for null values"
   ]
  },
  {
   "cell_type": "code",
   "execution_count": 767,
   "id": "major-lesbian",
   "metadata": {},
   "outputs": [
    {
     "data": {
      "text/plain": [
       "Country name                          0\n",
       "year                                  0\n",
       "Life Ladder                           0\n",
       "Log GDP per capita                   36\n",
       "Social support                       13\n",
       "Healthy life expectancy at birth     55\n",
       "Freedom to make life choices         32\n",
       "Generosity                           89\n",
       "Perceptions of corruption           110\n",
       "dtype: int64"
      ]
     },
     "execution_count": 767,
     "metadata": {},
     "output_type": "execute_result"
    }
   ],
   "source": [
    "dfhappy.isna().sum()"
   ]
  },
  {
   "cell_type": "markdown",
   "id": "resident-silly",
   "metadata": {},
   "source": [
    "Interpolate null values"
   ]
  },
  {
   "cell_type": "code",
   "execution_count": 768,
   "id": "loaded-singer",
   "metadata": {},
   "outputs": [],
   "source": [
    "dfhappy = dfhappy.interpolate()"
   ]
  },
  {
   "cell_type": "code",
   "execution_count": 770,
   "id": "interracial-fundamentals",
   "metadata": {},
   "outputs": [],
   "source": [
    "# Export dataset to csv\n",
    "dfhappy.to_csv('Data/CleanedHappy.csv')"
   ]
  },
  {
   "cell_type": "markdown",
   "id": "distant-wings",
   "metadata": {},
   "source": [
    "### World Dataset"
   ]
  },
  {
   "cell_type": "code",
   "execution_count": 535,
   "id": "false-adams",
   "metadata": {},
   "outputs": [],
   "source": [
    "datadf = pd.read_csv(prep.path('WDI/WDIData.csv'))\n",
    "countrydf = pd.read_csv(prep.path('WDI/WDICountry.csv'))\n",
    "df = pd.read_csv(prep.path('World_Development/Indicators.csv'))"
   ]
  },
  {
   "cell_type": "code",
   "execution_count": 536,
   "id": "immediate-visit",
   "metadata": {},
   "outputs": [],
   "source": [
    "Indicator_array =  df[['IndicatorName','IndicatorCode']].drop_duplicates().values"
   ]
  },
  {
   "cell_type": "code",
   "execution_count": 537,
   "id": "flying-accreditation",
   "metadata": {},
   "outputs": [
    {
     "name": "stdout",
     "output_type": "stream",
     "text": [
      "(1344, 2)\n"
     ]
    }
   ],
   "source": [
    "modified_indicators = []\n",
    "unique_indicator_codes = []\n",
    "for ele in Indicator_array:\n",
    "    indicator = ele[0]\n",
    "    indicator_code = ele[1].strip()\n",
    "    if indicator_code not in unique_indicator_codes:\n",
    "        # delete , ( ) from the IndicatorNames\n",
    "        new_indicator = re.sub('[,()]',\"\",indicator).lower()\n",
    "        # replace - with \"to\" and make all words into lower case\n",
    "        new_indicator = re.sub('-',\" to \",new_indicator).lower()\n",
    "        modified_indicators.append([new_indicator,indicator_code])\n",
    "        unique_indicator_codes.append(indicator_code)\n",
    "\n",
    "Indicators = pd.DataFrame(modified_indicators,columns=['IndicatorName','IndicatorCode'])\n",
    "Indicators = Indicators.drop_duplicates()\n",
    "print(Indicators.shape)"
   ]
  },
  {
   "cell_type": "code",
   "execution_count": 593,
   "id": "generic-bronze",
   "metadata": {},
   "outputs": [],
   "source": [
    "key_word_dict = {}\n",
    "key_word_dict['Demography'] = ['population','birth','death','fertility','mortality','expectancy']\n",
    "key_word_dict['Food'] = ['food','grain','nutrition','calories']\n",
    "key_word_dict['Trade'] = ['trade','import','export','good','shipping','shipment']\n",
    "key_word_dict['Health'] = ['health','desease','hospital','mortality','doctor']\n",
    "key_word_dict['Economy'] = ['income','gdp','gni','deficit','budget','market','stock','bond','infrastructure']\n",
    "key_word_dict['Energy'] = ['fuel','energy','power','emission','electric','electricity']\n",
    "key_word_dict['Education'] = ['education','literacy']\n",
    "key_word_dict['Employment'] =['employed','employment','umemployed','unemployment']\n",
    "key_word_dict['Rural'] = ['rural','village']\n",
    "key_word_dict['Urban'] = ['urban','city']\n",
    "key_word_dict['Social Programs'] = ['social', 'welfare']"
   ]
  },
  {
   "cell_type": "code",
   "execution_count": 594,
   "id": "aquatic-termination",
   "metadata": {
    "tags": []
   },
   "outputs": [
    {
     "name": "stdout",
     "output_type": "stream",
     "text": [
      "['social contributions % of revenue' 'GC.REV.SOCL.ZS']\n",
      "['social contributions current lcu' 'GC.REV.SOCL.CN']\n",
      "['adequacy of social insurance programs % of total welfare of beneficiary households'\n",
      " 'per_si_allsi.adq_pop_tot']\n",
      "['adequacy of social protection and labor programs % of total welfare of beneficiary households'\n",
      " 'per_allsp.adq_pop_tot']\n",
      "['adequacy of unemployment benefits and almp % of total welfare of beneficiary households'\n",
      " 'per_lm_alllm.adq_pop_tot']\n",
      "['benefits incidence in poorest quintile %  to  all social insurance'\n",
      " 'per_si_allsi.ben_q1_tot']\n",
      "['benefits incidence in poorest quintile %  to all social protection and labor'\n",
      " 'per_allsp.ben_q1_tot']\n",
      "['coverage %  to  all social insurance' 'per_si_allsi.cov_pop_tot']\n",
      "['coverage %  to all social protection and labor' 'per_allsp.cov_pop_tot']\n",
      "['coverage %  to  all social assistance' 'per_sa_allsa.cov_pop_tot']\n",
      "['adequacy of social safety net programs % of total welfare of beneficiary households'\n",
      " 'per_sa_allsa.adq_pop_tot']\n",
      "['benefits incidence in poorest quintile %  to  all social assistance'\n",
      " 'per_sa_allsa.ben_q1_tot']\n",
      "['cpia policies for social inclusion/equity cluster average 1=low to 6=high'\n",
      " 'IQ.CPA.SOCI.XQ']\n",
      "['cpia social protection rating 1=low to 6=high' 'IQ.CPA.PROT.XQ']\n"
     ]
    }
   ],
   "source": [
    "feature = 'Social Programs'\n",
    "for indicator_ele in Indicators.values:\n",
    "    for ele in key_word_dict[feature]:\n",
    "        word_list = indicator_ele[0].split()\n",
    "        if ele in word_list or ele+'s' in word_list:\n",
    "            # Uncomment this line to print the indicators explicitely\n",
    "            print(indicator_ele)\n",
    "            break"
   ]
  },
  {
   "cell_type": "code",
   "execution_count": 555,
   "id": "surrounded-guarantee",
   "metadata": {},
   "outputs": [],
   "source": [
    "# Main indicators to compare contries\n",
    "chosen_indicators = ['GC.REV.SOCL.ZS',  \\\n",
    "                     'GC.REV.SOCL.CN', 'IQ.CPA.PROT.XQ', 'IQ.CPA.SOCI.XQ']\n",
    "\n",
    "# Subset of data with the required features alone\n",
    "df_subset = df[df['IndicatorCode'].isin(chosen_indicators)]\n",
    "\n",
    "\n",
    "df_Arg = df_subset[df['CountryName']==\"Argentina\"]\n",
    "df_usa = df_subset[df['CountryName']==\"United States\"]\n",
    "\n",
    "# PLotting function for comparing development indicators\n",
    "def plot_indicator(indicator,delta=10):\n",
    "    ds_Arg = df_Arg[['IndicatorName','Year','Value']][df_Arg['IndicatorCode']==indicator]\n",
    "    try:\n",
    "        title = ds_Arg['IndicatorName'].iloc[1]\n",
    "    except:\n",
    "        title = \"None\"\n",
    "\n",
    "    xArg = ds_Arg['Year'].values\n",
    "    yArg = ds_Arg['Value'].values\n",
    "    ds_usa = df_usa[['IndicatorName','Year','Value']][df_usa['IndicatorCode']==indicator]\n",
    "    xusa = ds_usa['Year'].values\n",
    "    yusa = ds_usa['Value'].values\n",
    "    \n",
    "    plt.figure(figsize=(14,4))\n",
    "    \n",
    "    plt.subplot(121)\n",
    "    plt.plot(xArg,yArg,label='Argentina')\n",
    "    plt.plot(xusa,yusa,label='USA')\n",
    "    plt.title(title)\n",
    "    plt.legend(loc=2)\n",
    "\n",
    "    plt.subplot(122)\n",
    "    plt.plot(xArg,yArg,label='Argentina')\n",
    "    plt.plot(xusa+delta,yusa,label='USA')\n",
    "    plt.title(title + \"\\n USA Data Shifted by \" +str(delta)+\" Years\")\n",
    "    plt.legend(loc=2)"
   ]
  },
  {
   "cell_type": "code",
   "execution_count": 689,
   "id": "entire-newark",
   "metadata": {},
   "outputs": [
    {
     "data": {
      "text/plain": [
       "Social contributions (% of revenue)                                            1584\n",
       "Social contributions (current LCU)                                             1398\n",
       "CPIA policies for social inclusion/equity cluster average (1=low to 6=high)    1018\n",
       "CPIA social protection rating (1=low to 6=high)                                1015\n",
       "Name: IndicatorName, dtype: int64"
      ]
     },
     "execution_count": 689,
     "metadata": {},
     "output_type": "execute_result"
    }
   ],
   "source": [
    "df_subset.IndicatorName.value_counts()"
   ]
  },
  {
   "cell_type": "code",
   "execution_count": 556,
   "id": "elect-transcription",
   "metadata": {},
   "outputs": [
    {
     "data": {
      "image/png": "[encoded data removed]",
      "text/plain": [
       "<Figure size 1008x288 with 2 Axes>"
      ]
     },
     "metadata": {
      "needs_background": "light"
     },
     "output_type": "display_data"
    }
   ],
   "source": [
    "plot_indicator(chosen_indicators[0],delta=10)"
   ]
  },
  {
   "cell_type": "code",
   "execution_count": 15,
   "id": "tropical-unemployment",
   "metadata": {
    "collapsed": true,
    "jupyter": {
     "outputs_hidden": true
    },
    "tags": []
   },
   "outputs": [
    {
     "name": "stdout",
     "output_type": "stream",
     "text": [
      "<class 'pandas.core.frame.DataFrame'>\n",
      "RangeIndex: 422136 entries, 0 to 422135\n",
      "Data columns (total 64 columns):\n",
      " #   Column          Non-Null Count   Dtype  \n",
      "---  ------          --------------   -----  \n",
      " 0   Country Name    422136 non-null  object \n",
      " 1   Country Code    422136 non-null  object \n",
      " 2   Indicator Name  422136 non-null  object \n",
      " 3   Indicator Code  422136 non-null  object \n",
      " 4   1960            38296 non-null   float64\n",
      " 5   1961            42017 non-null   float64\n",
      " 6   1962            44198 non-null   float64\n",
      " 7   1963            44084 non-null   float64\n",
      " 8   1964            44611 non-null   float64\n",
      " 9   1965            47305 non-null   float64\n",
      " 10  1966            46902 non-null   float64\n",
      " 11  1967            48633 non-null   float64\n",
      " 12  1968            48209 non-null   float64\n",
      " 13  1969            50011 non-null   float64\n",
      " 14  1970            92892 non-null   float64\n",
      " 15  1971            99126 non-null   float64\n",
      " 16  1972            101898 non-null  float64\n",
      " 17  1973            101523 non-null  float64\n",
      " 18  1974            102838 non-null  float64\n",
      " 19  1975            106739 non-null  float64\n",
      " 20  1976            108656 non-null  float64\n",
      " 21  1977            111988 non-null  float64\n",
      " 22  1978            111568 non-null  float64\n",
      " 23  1979            112371 non-null  float64\n",
      " 24  1980            117218 non-null  float64\n",
      " 25  1981            119130 non-null  float64\n",
      " 26  1982            120334 non-null  float64\n",
      " 27  1983            120112 non-null  float64\n",
      " 28  1984            120914 non-null  float64\n",
      " 29  1985            122087 non-null  float64\n",
      " 30  1986            122924 non-null  float64\n",
      " 31  1987            124326 non-null  float64\n",
      " 32  1988            124043 non-null  float64\n",
      " 33  1989            125804 non-null  float64\n",
      " 34  1990            150283 non-null  float64\n",
      " 35  1991            155342 non-null  float64\n",
      " 36  1992            159292 non-null  float64\n",
      " 37  1993            160651 non-null  float64\n",
      " 38  1994            162800 non-null  float64\n",
      " 39  1995            170546 non-null  float64\n",
      " 40  1996            170804 non-null  float64\n",
      " 41  1997            171881 non-null  float64\n",
      " 42  1998            173814 non-null  float64\n",
      " 43  1999            179128 non-null  float64\n",
      " 44  2000            203655 non-null  float64\n",
      " 45  2001            193654 non-null  float64\n",
      " 46  2002            198571 non-null  float64\n",
      " 47  2003            199394 non-null  float64\n",
      " 48  2004            204796 non-null  float64\n",
      " 49  2005            218727 non-null  float64\n",
      " 50  2006            216489 non-null  float64\n",
      " 51  2007            220471 non-null  float64\n",
      " 52  2008            219495 non-null  float64\n",
      " 53  2009            220308 non-null  float64\n",
      " 54  2010            235880 non-null  float64\n",
      " 55  2011            226320 non-null  float64\n",
      " 56  2012            227731 non-null  float64\n",
      " 57  2013            222939 non-null  float64\n",
      " 58  2014            227702 non-null  float64\n",
      " 59  2015            221790 non-null  float64\n",
      " 60  2016            212990 non-null  float64\n",
      " 61  2017            186601 non-null  float64\n",
      " 62  2018            30247 non-null   float64\n",
      " 63  Unnamed: 63     0 non-null       float64\n",
      "dtypes: float64(60), object(4)\n",
      "memory usage: 206.1+ MB\n"
     ]
    }
   ],
   "source": [
    "datadf.info()"
   ]
  },
  {
   "cell_type": "code",
   "execution_count": 771,
   "id": "pressing-shannon",
   "metadata": {},
   "outputs": [],
   "source": [
    "worlddf = pd.DataFrame(datadf.groupby(['Country Name','Indicator Name']).mean().stack())\n",
    "worlddf = worlddf.reset_index()\n",
    "worlddf = worlddf.rename(columns={0: 'Value', 'level_2': 'Year', 'Country Name': 'Country', 'Indicator Name': 'IndicatorName'})\n",
    "# worlddf['Year'] = worlddf['Year'].astype(str)\n",
    "# worlddf['Year'] = pd.to_datetime(worlddf['Year'])\n",
    "worlddf = worlddf[worlddf.Year >= '1985']"
   ]
  },
  {
   "cell_type": "code",
   "execution_count": 772,
   "id": "herbal-friend",
   "metadata": {},
   "outputs": [],
   "source": [
    "worlddf.to_csv('Data/WorldDf.csv')"
   ]
  },
  {
   "cell_type": "code",
   "execution_count": 557,
   "id": "prostate-sampling",
   "metadata": {},
   "outputs": [
    {
     "data": {
      "text/plain": [
       "Year\n",
       "1985-01-01     0.000000\n",
       "1985-01-01    55.648247\n",
       "1985-01-01    31.367922\n",
       "1985-01-01    15.060333\n",
       "1985-01-01     9.845779\n",
       "                ...    \n",
       "2014-01-01     4.277823\n",
       "2014-01-01     3.684827\n",
       "2014-01-01     3.265107\n",
       "2014-01-01     2.174381\n",
       "2014-01-01     1.193129\n",
       "Name: predicted_mean, Length: 120, dtype: float64"
      ]
     },
     "execution_count": 557,
     "metadata": {},
     "output_type": "execute_result"
    }
   ],
   "source": [
    "ar_1 = ARIMA(arg, order=(1, 1, 0)).fit()\n",
    "\n",
    "# We put a typ='levels' to convert our predictions to remove the differencing performed.\n",
    "ar_1.predict(typ='levels')"
   ]
  },
  {
   "cell_type": "code",
   "execution_count": 558,
   "id": "wired-algeria",
   "metadata": {},
   "outputs": [
    {
     "data": {
      "text/html": [
       "<table class=\"simpletable\">\n",
       "<caption>SARIMAX Results</caption>\n",
       "<tr>\n",
       "  <th>Dep. Variable:</th>   <td>suicides/100k pop</td> <th>  No. Observations:  </th>    <td>120</td>  \n",
       "</tr>\n",
       "<tr>\n",
       "  <th>Model:</th>            <td>ARIMA(1, 1, 0)</td>   <th>  Log Likelihood     </th> <td>-459.609</td>\n",
       "</tr>\n",
       "<tr>\n",
       "  <th>Date:</th>            <td>Wed, 24 Nov 2021</td>  <th>  AIC                </th>  <td>923.217</td>\n",
       "</tr>\n",
       "<tr>\n",
       "  <th>Time:</th>                <td>15:37:23</td>      <th>  BIC                </th>  <td>928.776</td>\n",
       "</tr>\n",
       "<tr>\n",
       "  <th>Sample:</th>                  <td>0</td>         <th>  HQIC               </th>  <td>925.474</td>\n",
       "</tr>\n",
       "<tr>\n",
       "  <th></th>                      <td> - 120</td>       <th>                     </th>     <td> </td>   \n",
       "</tr>\n",
       "<tr>\n",
       "  <th>Covariance Type:</th>        <td>opg</td>        <th>                     </th>     <td> </td>   \n",
       "</tr>\n",
       "</table>\n",
       "<table class=\"simpletable\">\n",
       "<tr>\n",
       "     <td></td>       <th>coef</th>     <th>std err</th>      <th>z</th>      <th>P>|z|</th>  <th>[0.025</th>    <th>0.975]</th>  \n",
       "</tr>\n",
       "<tr>\n",
       "  <th>ar.L1</th>  <td>   -0.2257</td> <td>    0.083</td> <td>   -2.723</td> <td> 0.006</td> <td>   -0.388</td> <td>   -0.063</td>\n",
       "</tr>\n",
       "<tr>\n",
       "  <th>sigma2</th> <td>  132.4505</td> <td>    7.781</td> <td>   17.021</td> <td> 0.000</td> <td>  117.199</td> <td>  147.702</td>\n",
       "</tr>\n",
       "</table>\n",
       "<table class=\"simpletable\">\n",
       "<tr>\n",
       "  <th>Ljung-Box (L1) (Q):</th>     <td>0.13</td> <th>  Jarque-Bera (JB):  </th> <td>460.25</td>\n",
       "</tr>\n",
       "<tr>\n",
       "  <th>Prob(Q):</th>                <td>0.72</td> <th>  Prob(JB):          </th>  <td>0.00</td> \n",
       "</tr>\n",
       "<tr>\n",
       "  <th>Heteroskedasticity (H):</th> <td>0.27</td> <th>  Skew:              </th>  <td>2.48</td> \n",
       "</tr>\n",
       "<tr>\n",
       "  <th>Prob(H) (two-sided):</th>    <td>0.00</td> <th>  Kurtosis:          </th>  <td>11.26</td>\n",
       "</tr>\n",
       "</table><br/><br/>Warnings:<br/>[1] Covariance matrix calculated using the outer product of gradients (complex-step)."
      ],
      "text/plain": [
       "<class 'statsmodels.iolib.summary.Summary'>\n",
       "\"\"\"\n",
       "                               SARIMAX Results                                \n",
       "==============================================================================\n",
       "Dep. Variable:      suicides/100k pop   No. Observations:                  120\n",
       "Model:                 ARIMA(1, 1, 0)   Log Likelihood                -459.609\n",
       "Date:                Wed, 24 Nov 2021   AIC                            923.217\n",
       "Time:                        15:37:23   BIC                            928.776\n",
       "Sample:                             0   HQIC                           925.474\n",
       "                                - 120                                         \n",
       "Covariance Type:                  opg                                         \n",
       "==============================================================================\n",
       "                 coef    std err          z      P>|z|      [0.025      0.975]\n",
       "------------------------------------------------------------------------------\n",
       "ar.L1         -0.2257      0.083     -2.723      0.006      -0.388      -0.063\n",
       "sigma2       132.4505      7.781     17.021      0.000     117.199     147.702\n",
       "===================================================================================\n",
       "Ljung-Box (L1) (Q):                   0.13   Jarque-Bera (JB):               460.25\n",
       "Prob(Q):                              0.72   Prob(JB):                         0.00\n",
       "Heteroskedasticity (H):               0.27   Skew:                             2.48\n",
       "Prob(H) (two-sided):                  0.00   Kurtosis:                        11.26\n",
       "===================================================================================\n",
       "\n",
       "Warnings:\n",
       "[1] Covariance matrix calculated using the outer product of gradients (complex-step).\n",
       "\"\"\""
      ]
     },
     "execution_count": 558,
     "metadata": {},
     "output_type": "execute_result"
    }
   ],
   "source": [
    "ar_1.summary()"
   ]
  },
  {
   "cell_type": "code",
   "execution_count": null,
   "id": "intellectual-accessory",
   "metadata": {},
   "outputs": [],
   "source": []
  }
 ],
 "metadata": {
  "kernelspec": {
   "display_name": "Python (learn-env)",
   "language": "python",
   "name": "learn-env"
  },
  "language_info": {
   "codemirror_mode": {
    "name": "ipython",
    "version": 3
   },
   "file_extension": ".py",
   "mimetype": "text/x-python",
   "name": "python",
   "nbconvert_exporter": "python",
   "pygments_lexer": "ipython3",
   "version": "3.8.5"
  }
 },
 "nbformat": 4,
 "nbformat_minor": 5
}
