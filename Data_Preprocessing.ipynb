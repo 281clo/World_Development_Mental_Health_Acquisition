{
 "cells": [
  {
   "cell_type": "markdown",
   "id": "turkish-portsmouth",
   "metadata": {},
   "source": [
    "Import packages"
   ]
  },
  {
   "cell_type": "code",
   "execution_count": 554,
   "id": "wooden-effects",
   "metadata": {},
   "outputs": [],
   "source": [
    "import pandas as pd\n",
    "import seaborn as sns\n",
    "import matplotlib.pyplot as plt\n",
    "%matplotlib inline\n",
    "import numpy as np\n",
    "from sklearn.linear_model import LinearRegression\n",
    "from sklearn.model_selection import train_test_split\n",
    "from statsmodels.formula.api import ols\n",
    "from sklearn.preprocessing import StandardScaler\n",
    "from sklearn.preprocessing import OneHotEncoder\n",
    "import plotly as py\n",
    "import plotly.express as px\n",
    "import plotly.graph_objs as go\n",
    "from plotly.subplots import make_subplots\n",
    "from plotly.offline import download_plotlyjs, plot, iplot\n",
    "import sqlite3\n",
    "import Code.Preparation as prep\n",
    "from sklearn.linear_model import LinearRegression\n",
    "from sklearn.compose import make_column_transformer\n",
    "from sklearn.impute import SimpleImputer\n",
    "import statsmodels.api as sm\n",
    "import re\n",
    "from sklearn.metrics import mean_squared_error\n",
    "from sklearn.linear_model import LinearRegression\n",
    "from sklearn.model_selection import TimeSeriesSplit\n",
    "import itertools\n",
    "from statsmodels.tsa.arima.model import ARIMA\n",
    "from statsmodels.tsa.stattools import acf, pacf, adfuller\n",
    "from statsmodels.graphics.tsaplots import plot_acf, plot_pacf\n",
    "from statsmodels.tsa.statespace.sarimax import SARIMAX\n",
    "import warnings\n",
    "warnings.filterwarnings('ignore')"
   ]
  },
  {
   "cell_type": "markdown",
   "id": "permanent-stereo",
   "metadata": {},
   "source": [
    "### Clean and combine happiness reports dataset"
   ]
  },
  {
   "cell_type": "markdown",
   "id": "spanish-kazakhstan",
   "metadata": {},
   "source": [
    "Load datasets"
   ]
  },
  {
   "cell_type": "code",
   "execution_count": 187,
   "id": "nonprofit-addition",
   "metadata": {},
   "outputs": [],
   "source": [
    "df2015 = pd.read_csv(prep.path('happy/2015.csv'))\n",
    "df2015['Year'] = (2015)\n",
    "df2016 = pd.read_csv(prep.path('happy/2016.csv'))\n",
    "df2016['Year'] = 2016\n",
    "df2017 = pd.read_csv(prep.path('happy/2017.csv'))\n",
    "df2017['Year'] = 2017\n",
    "df2018 = pd.read_csv(prep.path('happy/2018.csv'))\n",
    "df2018['Year'] = 2018\n",
    "df2019 = pd.read_csv(prep.path('happy/2019.csv'))\n",
    "df2019['Year'] = 2019"
   ]
  },
  {
   "cell_type": "code",
   "execution_count": 266,
   "id": "excess-facility",
   "metadata": {},
   "outputs": [],
   "source": [
    "happydf = pd.merge(df2015, df2016, how='outer').merge(df2017, how='outer').merge(df2018, how='outer').merge(df2019, how='outer')"
   ]
  },
  {
   "cell_type": "code",
   "execution_count": 267,
   "id": "excellent-argument",
   "metadata": {},
   "outputs": [],
   "source": [
    "happydf.Country = happydf.Country.fillna(happydf['Country or region'])\n",
    "happydf['Happiness Rank'] = happydf['Happiness Rank'].fillna(happydf['Happiness.Rank'])\n",
    "happydf['Happiness Rank'] = happydf['Happiness Rank'].fillna(happydf['Overall rank'])\n",
    "happydf['Happiness Score'] = happydf['Happiness Score'].fillna(happydf['Happiness.Score'])\n",
    "happydf['Happiness Score'] = happydf['Happiness Score'].fillna(happydf['Score'])\n",
    "happydf['Economy (GDP per Capita)'] = happydf['Economy (GDP per Capita)'].fillna(happydf['Economy..GDP.per.Capita.'])\n",
    "happydf['Economy (GDP per Capita)'] = happydf['Economy (GDP per Capita)'].fillna(happydf['GDP per capita'])\n",
    "happydf['Health (Life Expectancy)'] = happydf['Health (Life Expectancy)'].fillna(happydf['Health..Life.Expectancy.'])\n",
    "happydf['Health (Life Expectancy)'] = happydf['Health (Life Expectancy)'].fillna(happydf['Healthy life expectancy'])\n",
    "happydf['Trust (Government Corruption)'] = happydf['Trust (Government Corruption)'].fillna(happydf['Perceptions of corruption'])\n",
    "happydf['Trust (Government Corruption)'] = happydf['Trust (Government Corruption)'].fillna(happydf['Trust..Government.Corruption.'])\n",
    "happydf['Freedom'] = happydf['Freedom'].fillna(happydf['Freedom to make life choices'])\n",
    "happydf['Social support'] = happydf['Social support'].fillna(happydf['Family'])\n",
    "happydf = pd.DataFrame(happydf[['Country', 'Year', 'Happiness Rank', 'Happiness Score', 'Economy (GDP per Capita)', 'Social support', 'Trust (Government Corruption)', 'Generosity']])"
   ]
  },
  {
   "cell_type": "code",
   "execution_count": 268,
   "id": "fuzzy-cartoon",
   "metadata": {},
   "outputs": [],
   "source": [
    "happydf.dropna(inplace=True)\n",
    "happydf['Year'] = happydf['Year'].astype(str)\n",
    "happydf['Year'] = pd.to_datetime(happydf['Year'])\n",
    "# happydf = happydf.set_index(['Country', 'Year'])"
   ]
  },
  {
   "cell_type": "code",
   "execution_count": 191,
   "id": "intimate-mobility",
   "metadata": {},
   "outputs": [],
   "source": [
    "happydf.to_csv('Data/CleanedHappy.csv')"
   ]
  },
  {
   "cell_type": "code",
   "execution_count": 535,
   "id": "packed-keyboard",
   "metadata": {},
   "outputs": [],
   "source": [
    "datadf = pd.read_csv(prep.path('WDI/WDIData.csv'))\n",
    "countrydf = pd.read_csv(prep.path('WDI/WDICountry.csv'))\n",
    "df = pd.read_csv(prep.path('World_Development/Indicators.csv'))"
   ]
  },
  {
   "cell_type": "code",
   "execution_count": 536,
   "id": "still-public",
   "metadata": {},
   "outputs": [],
   "source": [
    "Indicator_array =  df[['IndicatorName','IndicatorCode']].drop_duplicates().values"
   ]
  },
  {
   "cell_type": "code",
   "execution_count": 537,
   "id": "czech-holder",
   "metadata": {},
   "outputs": [
    {
     "name": "stdout",
     "output_type": "stream",
     "text": [
      "(1344, 2)\n"
     ]
    }
   ],
   "source": [
    "modified_indicators = []\n",
    "unique_indicator_codes = []\n",
    "for ele in Indicator_array:\n",
    "    indicator = ele[0]\n",
    "    indicator_code = ele[1].strip()\n",
    "    if indicator_code not in unique_indicator_codes:\n",
    "        # delete , ( ) from the IndicatorNames\n",
    "        new_indicator = re.sub('[,()]',\"\",indicator).lower()\n",
    "        # replace - with \"to\" and make all words into lower case\n",
    "        new_indicator = re.sub('-',\" to \",new_indicator).lower()\n",
    "        modified_indicators.append([new_indicator,indicator_code])\n",
    "        unique_indicator_codes.append(indicator_code)\n",
    "\n",
    "Indicators = pd.DataFrame(modified_indicators,columns=['IndicatorName','IndicatorCode'])\n",
    "Indicators = Indicators.drop_duplicates()\n",
    "print(Indicators.shape)"
   ]
  },
  {
   "cell_type": "code",
   "execution_count": 593,
   "id": "dying-camcorder",
   "metadata": {},
   "outputs": [],
   "source": [
    "key_word_dict = {}\n",
    "key_word_dict['Demography'] = ['population','birth','death','fertility','mortality','expectancy']\n",
    "key_word_dict['Food'] = ['food','grain','nutrition','calories']\n",
    "key_word_dict['Trade'] = ['trade','import','export','good','shipping','shipment']\n",
    "key_word_dict['Health'] = ['health','desease','hospital','mortality','doctor']\n",
    "key_word_dict['Economy'] = ['income','gdp','gni','deficit','budget','market','stock','bond','infrastructure']\n",
    "key_word_dict['Energy'] = ['fuel','energy','power','emission','electric','electricity']\n",
    "key_word_dict['Education'] = ['education','literacy']\n",
    "key_word_dict['Employment'] =['employed','employment','umemployed','unemployment']\n",
    "key_word_dict['Rural'] = ['rural','village']\n",
    "key_word_dict['Urban'] = ['urban','city']\n",
    "key_word_dict['Social Programs'] = ['social', 'welfare']"
   ]
  },
  {
   "cell_type": "code",
   "execution_count": 594,
   "id": "temporal-record",
   "metadata": {
    "tags": []
   },
   "outputs": [
    {
     "name": "stdout",
     "output_type": "stream",
     "text": [
      "['social contributions % of revenue' 'GC.REV.SOCL.ZS']\n",
      "['social contributions current lcu' 'GC.REV.SOCL.CN']\n",
      "['adequacy of social insurance programs % of total welfare of beneficiary households'\n",
      " 'per_si_allsi.adq_pop_tot']\n",
      "['adequacy of social protection and labor programs % of total welfare of beneficiary households'\n",
      " 'per_allsp.adq_pop_tot']\n",
      "['adequacy of unemployment benefits and almp % of total welfare of beneficiary households'\n",
      " 'per_lm_alllm.adq_pop_tot']\n",
      "['benefits incidence in poorest quintile %  to  all social insurance'\n",
      " 'per_si_allsi.ben_q1_tot']\n",
      "['benefits incidence in poorest quintile %  to all social protection and labor'\n",
      " 'per_allsp.ben_q1_tot']\n",
      "['coverage %  to  all social insurance' 'per_si_allsi.cov_pop_tot']\n",
      "['coverage %  to all social protection and labor' 'per_allsp.cov_pop_tot']\n",
      "['coverage %  to  all social assistance' 'per_sa_allsa.cov_pop_tot']\n",
      "['adequacy of social safety net programs % of total welfare of beneficiary households'\n",
      " 'per_sa_allsa.adq_pop_tot']\n",
      "['benefits incidence in poorest quintile %  to  all social assistance'\n",
      " 'per_sa_allsa.ben_q1_tot']\n",
      "['cpia policies for social inclusion/equity cluster average 1=low to 6=high'\n",
      " 'IQ.CPA.SOCI.XQ']\n",
      "['cpia social protection rating 1=low to 6=high' 'IQ.CPA.PROT.XQ']\n"
     ]
    }
   ],
   "source": [
    "feature = 'Social Programs'\n",
    "for indicator_ele in Indicators.values:\n",
    "    for ele in key_word_dict[feature]:\n",
    "        word_list = indicator_ele[0].split()\n",
    "        if ele in word_list or ele+'s' in word_list:\n",
    "            # Uncomment this line to print the indicators explicitely\n",
    "            print(indicator_ele)\n",
    "            break"
   ]
  },
  {
   "cell_type": "code",
   "execution_count": 555,
   "id": "southern-placement",
   "metadata": {},
   "outputs": [],
   "source": [
    "# Main indicators to compare contries\n",
    "chosen_indicators = ['GC.REV.SOCL.ZS',  \\\n",
    "                     'GC.REV.SOCL.CN', 'IQ.CPA.PROT.XQ', 'IQ.CPA.SOCI.XQ']\n",
    "\n",
    "# Subset of data with the required features alone\n",
    "df_subset = df[df['IndicatorCode'].isin(chosen_indicators)]\n",
    "\n",
    "\n",
    "df_Arg = df_subset[df['CountryName']==\"Argentina\"]\n",
    "df_usa = df_subset[df['CountryName']==\"United States\"]\n",
    "\n",
    "# PLotting function for comparing development indicators\n",
    "def plot_indicator(indicator,delta=10):\n",
    "    ds_Arg = df_Arg[['IndicatorName','Year','Value']][df_Arg['IndicatorCode']==indicator]\n",
    "    try:\n",
    "        title = ds_Arg['IndicatorName'].iloc[1]\n",
    "    except:\n",
    "        title = \"None\"\n",
    "\n",
    "    xArg = ds_Arg['Year'].values\n",
    "    yArg = ds_Arg['Value'].values\n",
    "    ds_usa = df_usa[['IndicatorName','Year','Value']][df_usa['IndicatorCode']==indicator]\n",
    "    xusa = ds_usa['Year'].values\n",
    "    yusa = ds_usa['Value'].values\n",
    "    \n",
    "    plt.figure(figsize=(14,4))\n",
    "    \n",
    "    plt.subplot(121)\n",
    "    plt.plot(xArg,yArg,label='Argentina')\n",
    "    plt.plot(xusa,yusa,label='USA')\n",
    "    plt.title(title)\n",
    "    plt.legend(loc=2)\n",
    "\n",
    "    plt.subplot(122)\n",
    "    plt.plot(xArg,yArg,label='Argentina')\n",
    "    plt.plot(xusa+delta,yusa,label='USA')\n",
    "    plt.title(title + \"\\n USA Data Shifted by \" +str(delta)+\" Years\")\n",
    "    plt.legend(loc=2)"
   ]
  },
  {
   "cell_type": "code",
   "execution_count": 689,
   "id": "weird-stevens",
   "metadata": {},
   "outputs": [
    {
     "data": {
      "text/plain": [
       "Social contributions (% of revenue)                                            1584\n",
       "Social contributions (current LCU)                                             1398\n",
       "CPIA policies for social inclusion/equity cluster average (1=low to 6=high)    1018\n",
       "CPIA social protection rating (1=low to 6=high)                                1015\n",
       "Name: IndicatorName, dtype: int64"
      ]
     },
     "execution_count": 689,
     "metadata": {},
     "output_type": "execute_result"
    }
   ],
   "source": [
    "df_subset.IndicatorName.value_counts()"
   ]
  },
  {
   "cell_type": "code",
   "execution_count": 556,
   "id": "virtual-cooper",
   "metadata": {},
   "outputs": [
    {
     "data": {
      "image/png": "[encoded data removed]",
      "text/plain": [
       "<Figure size 1008x288 with 2 Axes>"
      ]
     },
     "metadata": {
      "needs_background": "light"
     },
     "output_type": "display_data"
    }
   ],
   "source": [
    "plot_indicator(chosen_indicators[0],delta=10)"
   ]
  },
  {
   "cell_type": "code",
   "execution_count": 15,
   "id": "gentle-paraguay",
   "metadata": {
    "collapsed": true,
    "jupyter": {
     "outputs_hidden": true
    },
    "tags": []
   },
   "outputs": [
    {
     "name": "stdout",
     "output_type": "stream",
     "text": [
      "<class 'pandas.core.frame.DataFrame'>\n",
      "RangeIndex: 422136 entries, 0 to 422135\n",
      "Data columns (total 64 columns):\n",
      " #   Column          Non-Null Count   Dtype  \n",
      "---  ------          --------------   -----  \n",
      " 0   Country Name    422136 non-null  object \n",
      " 1   Country Code    422136 non-null  object \n",
      " 2   Indicator Name  422136 non-null  object \n",
      " 3   Indicator Code  422136 non-null  object \n",
      " 4   1960            38296 non-null   float64\n",
      " 5   1961            42017 non-null   float64\n",
      " 6   1962            44198 non-null   float64\n",
      " 7   1963            44084 non-null   float64\n",
      " 8   1964            44611 non-null   float64\n",
      " 9   1965            47305 non-null   float64\n",
      " 10  1966            46902 non-null   float64\n",
      " 11  1967            48633 non-null   float64\n",
      " 12  1968            48209 non-null   float64\n",
      " 13  1969            50011 non-null   float64\n",
      " 14  1970            92892 non-null   float64\n",
      " 15  1971            99126 non-null   float64\n",
      " 16  1972            101898 non-null  float64\n",
      " 17  1973            101523 non-null  float64\n",
      " 18  1974            102838 non-null  float64\n",
      " 19  1975            106739 non-null  float64\n",
      " 20  1976            108656 non-null  float64\n",
      " 21  1977            111988 non-null  float64\n",
      " 22  1978            111568 non-null  float64\n",
      " 23  1979            112371 non-null  float64\n",
      " 24  1980            117218 non-null  float64\n",
      " 25  1981            119130 non-null  float64\n",
      " 26  1982            120334 non-null  float64\n",
      " 27  1983            120112 non-null  float64\n",
      " 28  1984            120914 non-null  float64\n",
      " 29  1985            122087 non-null  float64\n",
      " 30  1986            122924 non-null  float64\n",
      " 31  1987            124326 non-null  float64\n",
      " 32  1988            124043 non-null  float64\n",
      " 33  1989            125804 non-null  float64\n",
      " 34  1990            150283 non-null  float64\n",
      " 35  1991            155342 non-null  float64\n",
      " 36  1992            159292 non-null  float64\n",
      " 37  1993            160651 non-null  float64\n",
      " 38  1994            162800 non-null  float64\n",
      " 39  1995            170546 non-null  float64\n",
      " 40  1996            170804 non-null  float64\n",
      " 41  1997            171881 non-null  float64\n",
      " 42  1998            173814 non-null  float64\n",
      " 43  1999            179128 non-null  float64\n",
      " 44  2000            203655 non-null  float64\n",
      " 45  2001            193654 non-null  float64\n",
      " 46  2002            198571 non-null  float64\n",
      " 47  2003            199394 non-null  float64\n",
      " 48  2004            204796 non-null  float64\n",
      " 49  2005            218727 non-null  float64\n",
      " 50  2006            216489 non-null  float64\n",
      " 51  2007            220471 non-null  float64\n",
      " 52  2008            219495 non-null  float64\n",
      " 53  2009            220308 non-null  float64\n",
      " 54  2010            235880 non-null  float64\n",
      " 55  2011            226320 non-null  float64\n",
      " 56  2012            227731 non-null  float64\n",
      " 57  2013            222939 non-null  float64\n",
      " 58  2014            227702 non-null  float64\n",
      " 59  2015            221790 non-null  float64\n",
      " 60  2016            212990 non-null  float64\n",
      " 61  2017            186601 non-null  float64\n",
      " 62  2018            30247 non-null   float64\n",
      " 63  Unnamed: 63     0 non-null       float64\n",
      "dtypes: float64(60), object(4)\n",
      "memory usage: 206.1+ MB\n"
     ]
    }
   ],
   "source": [
    "datadf.info()"
   ]
  },
  {
   "cell_type": "code",
   "execution_count": 638,
   "id": "monetary-think",
   "metadata": {},
   "outputs": [],
   "source": [
    "worlddf = pd.DataFrame(datadf.groupby(['Country Name','Indicator Name']).mean().stack())\n",
    "worlddf = worlddf.reset_index()\n",
    "worlddf = worlddf.rename(columns={0: 'Value', 'level_2': 'Year', 'Country Name': 'Country', 'Indicator Name': 'IndicatorName'})\n",
    "worlddf['Year'] = worlddf['Year'].astype(str)\n",
    "worlddf['Year'] = pd.to_datetime(worlddf['Year'])\n",
    "worlddf = worlddf[worlddf.Year >= '1985']"
   ]
  },
  {
   "cell_type": "code",
   "execution_count": 627,
   "id": "polish-ratio",
   "metadata": {
    "jupyter": {
     "source_hidden": true
    },
    "tags": []
   },
   "outputs": [],
   "source": [
    "worlddf = worlddf[(worlddf.IndicatorName == 'Imports of goods and services (annual % growth)')| \n",
    "        (worlddf.IndicatorName == 'Imports of goods and services (% of GDP)')| \n",
    "        (worlddf.IndicatorName == 'High-technology exports (% of manufactured exports)')| \n",
    "        (worlddf.IndicatorName == 'Cost to import (US$ per container)')| \n",
    "        (worlddf.IndicatorName == 'Cost to export (US$ per container)')| \n",
    "        (worlddf.IndicatorName == 'Food imports (% of merchandise imports)')| \n",
    "        (worlddf.IndicatorName == 'Food exports (% of merchandise exports)')| \n",
    "        (worlddf.IndicatorName == 'Exports of goods and services (annual % growth)')|\n",
    "        (worlddf.IndicatorName == 'Exports of goods and services (% of GDP)')| \n",
    "        (worlddf.IndicatorName == 'Out-of-school children of primary school age, both sexes (number)')|\n",
    "        (worlddf.IndicatorName == 'Enrolment in secondary vocational, both sexes (number)')| \n",
    "        (worlddf.IndicatorName == 'Enrolment in secondary general, both sexes (number)')|\n",
    "        (worlddf.IndicatorName == 'Enrolment in secondary education, both sexes (number)')|\n",
    "        (worlddf.IndicatorName == 'Enrolment in primary education, both sexes (number)')|\n",
    "        (worlddf.IndicatorName == 'Labor force with tertiary education (% of total)')|\n",
    "        (worlddf.IndicatorName == 'Labor force with secondary education (% of total)')|\n",
    "        (worlddf.IndicatorName == 'Labor force with primary education (% of total)')|\n",
    "        (worlddf.IndicatorName == 'Labor force participation rate, total (% of total population ages 15+) (national estimate)')|\n",
    "        (worlddf.IndicatorName == 'Employers, total (% of employment)')|\n",
    "        (worlddf.IndicatorName == 'Annualized average growth rate in per capita real survey mean consumption or income, total population (%)')|\n",
    "        (worlddf.IndicatorName == 'Annualized average growth rate in per capita real survey mean consumption or income, bottom 40% of population (%)')|\n",
    "        (worlddf.IndicatorName == 'Adjusted net national income per capita (annual % growth)')|\n",
    "        (worlddf.IndicatorName == 'Antiretroviral therapy coverage (% of people living with HIV)')|\n",
    "        (worlddf.IndicatorName == 'Adequacy of unemployment benefits and ALMP (% of total welfare of beneficiary households)')|\n",
    "        (worlddf.IndicatorName == 'Adequacy of social safety net programs (% of total welfare of beneficiary households)')|\n",
    "        (worlddf.IndicatorName == 'Adequacy of social protection and labor programs (% of total welfare of beneficiary households)')|\n",
    "        (worlddf.IndicatorName == 'Adequacy of social insurance programs (% of total welfare of beneficiary households)')|\n",
    "        (worlddf.IndicatorName == 'Improved water source, urban (% of urban population with access)')|\n",
    "        (worlddf.IndicatorName == 'Improved water source, rural (% of rural population with access)')|\n",
    "        (worlddf.IndicatorName == 'Improved water source (% of population with access)')|\n",
    "        (worlddf.IndicatorName == 'Improved sanitation facilities, urban (% of urban population with access)')|\n",
    "        (worlddf.IndicatorName == 'Improved sanitation facilities, rural (% of rural population with access)')|\n",
    "        (worlddf.IndicatorName == 'Improved sanitation facilities (% of population with access)')|\n",
    "        (worlddf.IndicatorName == 'Mobile cellular subscriptions (per 100 people)')|\n",
    "        (worlddf.IndicatorName == 'Fixed telephone subscriptions (per 100 people)')|\n",
    "        (worlddf.IndicatorName == 'Fixed broadband subscriptions (per 100 people)')|\n",
    "        (worlddf.IndicatorName == 'Depth of the food deficit (kilocalories per person per day)')|\n",
    "        (worlddf.IndicatorName == 'Access to electricity, urban (% of urban population)')|\n",
    "        (worlddf.IndicatorName == 'Access to electricity, rural (% of rural population)')|\n",
    "        (worlddf.IndicatorName == 'Access to electricity (% of population)')|\n",
    "        (worlddf.IndicatorName == 'Multilateral debt (% of total external debt)')|\n",
    "        (worlddf.IndicatorName == 'Life expectancy at birth, total (years)')|\n",
    "        (worlddf.IndicatorName == 'Household final consumption expenditure per capita growth (annual %)')|\n",
    "        (worlddf.IndicatorName == 'GDP per capita growth (annual %)')|\n",
    "        (worlddf.IndicatorName == 'GDP growth (annual %)' )|\n",
    "        (worlddf.IndicatorName == 'GDP per capita (current US$)' )|\n",
    "        (worlddf.IndicatorName == 'Percentage of enrolment in secondary education in private institutions (%)')|\n",
    "        (worlddf.IndicatorName == 'Percentage of enrolment in primary education in private institutions (%)')|\n",
    "        (worlddf.IndicatorName == 'Poverty gap at national poverty lines (%)')|\n",
    "        (worlddf.IndicatorName == 'Prevalence of undernourishment (% of population)')|\n",
    "        (worlddf.IndicatorName == 'Rural population (% of total population)')|\n",
    "        (worlddf.IndicatorName == 'Rural poverty gap at national poverty lines (%)')|\n",
    "        (worlddf.IndicatorName == 'Urban poverty gap at national poverty lines (%)')|\n",
    "        (worlddf.IndicatorName == 'Share of youth not in education, employment, or training, total (% of youth population)')|\n",
    "        (worlddf.IndicatorName == 'Social contributions (% of revenue)')|\n",
    "        (worlddf.IndicatorName == 'Unemployment, total (% of total labor force) (national estimate)')|\n",
    "        (worlddf.IndicatorName == 'Unemployment, total (% of total labor force)')|\n",
    "        (worlddf.IndicatorName == 'Vulnerable employment, total (% of total employment)')]"
   ]
  },
  {
   "cell_type": "code",
   "execution_count": 639,
   "id": "scientific-fraction",
   "metadata": {},
   "outputs": [],
   "source": [
    "worlddf.to_csv('Data/WorldDf.csv')"
   ]
  },
  {
   "cell_type": "code",
   "execution_count": 614,
   "id": "white-petroleum",
   "metadata": {
    "tags": []
   },
   "outputs": [
    {
     "name": "stdout",
     "output_type": "stream",
     "text": [
      "[       Value\n",
      "Value    1.0,        Value\n",
      "Value    1.0,        Value\n",
      "Value    1.0,        Value\n",
      "Value    1.0,        Value\n",
      "Value    1.0,        Value\n",
      "Value    1.0,        Value\n",
      "Value    1.0,        Value\n",
      "Value    1.0,        Value\n",
      "Value    1.0,        Value\n",
      "Value    1.0,        Value\n",
      "Value    1.0,        Value\n",
      "Value    1.0,        Value\n",
      "Value    1.0,        Value\n",
      "Value    1.0,        Value\n",
      "Value    1.0,        Value\n",
      "Value    1.0,        Value\n",
      "Value    1.0,        Value\n",
      "Value    1.0,        Value\n",
      "Value    1.0,        Value\n",
      "Value    1.0,        Value\n",
      "Value    1.0,        Value\n",
      "Value    1.0,        Value\n",
      "Value    NaN,        Value\n",
      "Value    NaN,        Value\n",
      "Value    NaN,        Value\n",
      "Value    NaN,        Value\n",
      "Value    NaN,        Value\n",
      "Value    NaN,        Value\n",
      "Value    1.0,        Value\n",
      "Value    1.0,        Value\n",
      "Value    1.0,        Value\n",
      "Value    1.0,        Value\n",
      "Value    NaN,        Value\n",
      "Value    NaN,        Value\n",
      "Value    NaN,        Value\n",
      "Value    1.0,        Value\n",
      "Value    1.0,        Value\n",
      "Value    1.0,        Value\n",
      "Value    1.0,        Value\n",
      "Value    1.0,        Value\n",
      "Value    1.0,        Value\n",
      "Value    1.0]\n"
     ]
    }
   ],
   "source": [
    "features = ['Access to electricity (% of population)',\n",
    "            'Access to electricity, rural (% of rural population)',\n",
    "            'Access to electricity, urban (% of urban population)',\n",
    "            'Adequacy of social insurance programs (% of total welfare of beneficiary households)',\n",
    "            'Adequacy of social protection and labor programs (% of total welfare of beneficiary households)',\n",
    "            'Adequacy of social safety net programs (% of total welfare of beneficiary households)',\n",
    "            'Adjusted net national income per capita (annual % growth)',\n",
    "            'Annualized average growth rate in per capita real survey mean consumption or income, bottom 40% of population (%)',\n",
    "            'Annualized average growth rate in per capita real survey mean consumption or income, total population (%)',\n",
    "            'Antiretroviral therapy coverage (% of people living with HIV)',\n",
    "            'Exports of goods and services (% of GDP)',\n",
    "            'Exports of goods and services (annual % growth)',\n",
    "            'Fixed broadband subscriptions (per 100 people)',\n",
    "            'Fixed telephone subscriptions (per 100 people)',\n",
    "            'Food exports (% of merchandise exports)',\n",
    "            'Food imports (% of merchandise imports)',\n",
    "            'GDP growth (annual %)',\n",
    "            'GDP per capita (current US$)',\n",
    "            'GDP per capita growth (annual %)',\n",
    "            'High-technology exports (% of manufactured exports)',\n",
    "            'Imports of goods and services (% of GDP)',\n",
    "            'Imports of goods and services (annual % growth)',\n",
    "            'Improved sanitation facilities (% of population with access)',\n",
    "            'Improved sanitation facilities, rural (% of rural population with access)',\n",
    "            'Improved sanitation facilities, urban (% of urban population with access)',\n",
    "            'Improved water source (% of population with access)',\n",
    "            'Improved water source, rural (% of rural population with access)',\n",
    "            'Improved water source, urban (% of urban population with access)',\n",
    "            'Labor force participation rate, total (% of total population ages 15+) (national estimate)',\n",
    "            'Life expectancy at birth, total (years)',\n",
    "            'Mobile cellular subscriptions (per 100 people)',\n",
    "            'Multilateral debt (% of total external debt)',\n",
    "            'Out-of-school children of primary school age, both sexes (number)',\n",
    "            'Percentage of enrolment in primary education in private institutions (%)',\n",
    "            'Percentage of enrolment in secondary education in private institutions (%)',\n",
    "            'Poverty gap at national poverty lines (%)',\n",
    "            'Prevalence of undernourishment (% of population)',\n",
    "            'Rural population (% of total population)',\n",
    "            'Rural poverty gap at national poverty lines (%)',\n",
    "            'Social contributions (% of revenue)',\n",
    "            'Unemployment, total (% of total labor force) (national estimate)',\n",
    "            'Urban poverty gap at national poverty lines (%)']\n",
    "\n",
    "\n",
    "def make_dataframe(data):\n",
    "    mask = []\n",
    "    for f in features:\n",
    "        mask.append(data[data.IndicatorName == f].corr())\n",
    "        \n",
    "    \n",
    "    return mask\n",
    "\n",
    "print(make_dataframe(worlddf))\n"
   ]
  },
  {
   "cell_type": "code",
   "execution_count": 407,
   "id": "revolutionary-latter",
   "metadata": {},
   "outputs": [],
   "source": [
    "X = ratedf.drop('suicides/100k pop', axis=1)\n",
    "y = ratedf['suicides/100k pop']\n",
    "\n",
    "X_train, X_test, y_train, y_tes2 = train_test_split(X, y)\n",
    "X_scaled = (X_train - np.mean(X_train)) / np.std(X_train)"
   ]
  },
  {
   "cell_type": "code",
   "execution_count": 408,
   "id": "welcome-honor",
   "metadata": {
    "tags": []
   },
   "outputs": [
    {
     "data": {
      "text/html": [
       "<table class=\"simpletable\">\n",
       "<caption>OLS Regression Results</caption>\n",
       "<tr>\n",
       "  <th>Dep. Variable:</th>    <td>suicides/100k pop</td> <th>  R-squared:         </th> <td>   0.368</td> \n",
       "</tr>\n",
       "<tr>\n",
       "  <th>Model:</th>                   <td>OLS</td>        <th>  Adj. R-squared:    </th> <td>   0.366</td> \n",
       "</tr>\n",
       "<tr>\n",
       "  <th>Method:</th>             <td>Least Squares</td>   <th>  F-statistic:       </th> <td>   242.5</td> \n",
       "</tr>\n",
       "<tr>\n",
       "  <th>Date:</th>             <td>Wed, 24 Nov 2021</td>  <th>  Prob (F-statistic):</th>  <td>  0.00</td>  \n",
       "</tr>\n",
       "<tr>\n",
       "  <th>Time:</th>                 <td>13:54:23</td>      <th>  Log-Likelihood:    </th> <td> -25299.</td> \n",
       "</tr>\n",
       "<tr>\n",
       "  <th>No. Observations:</th>      <td>  6273</td>       <th>  AIC:               </th> <td>5.063e+04</td>\n",
       "</tr>\n",
       "<tr>\n",
       "  <th>Df Residuals:</th>          <td>  6257</td>       <th>  BIC:               </th> <td>5.074e+04</td>\n",
       "</tr>\n",
       "<tr>\n",
       "  <th>Df Model:</th>              <td>    15</td>       <th>                     </th>     <td> </td>    \n",
       "</tr>\n",
       "<tr>\n",
       "  <th>Covariance Type:</th>      <td>nonrobust</td>     <th>                     </th>     <td> </td>    \n",
       "</tr>\n",
       "</table>\n",
       "<table class=\"simpletable\">\n",
       "<tr>\n",
       "               <td></td>                 <th>coef</th>     <th>std err</th>      <th>t</th>      <th>P>|t|</th>  <th>[0.025</th>    <th>0.975]</th>  \n",
       "</tr>\n",
       "<tr>\n",
       "  <th>const</th>                      <td>   12.0261</td> <td>    0.173</td> <td>   69.667</td> <td> 0.000</td> <td>   11.688</td> <td>   12.365</td>\n",
       "</tr>\n",
       "<tr>\n",
       "  <th>suicides_no</th>                <td>    4.7528</td> <td>    0.294</td> <td>   16.157</td> <td> 0.000</td> <td>    4.176</td> <td>    5.329</td>\n",
       "</tr>\n",
       "<tr>\n",
       "  <th>population</th>                 <td>   -3.6468</td> <td>    0.255</td> <td>  -14.284</td> <td> 0.000</td> <td>   -4.147</td> <td>   -3.146</td>\n",
       "</tr>\n",
       "<tr>\n",
       "  <th>HDI for year</th>               <td>    3.3696</td> <td>    0.279</td> <td>   12.071</td> <td> 0.000</td> <td>    2.822</td> <td>    3.917</td>\n",
       "</tr>\n",
       "<tr>\n",
       "  <th>gdp_per_capita ($)</th>         <td>   -2.4930</td> <td>    0.272</td> <td>   -9.176</td> <td> 0.000</td> <td>   -3.026</td> <td>   -1.960</td>\n",
       "</tr>\n",
       "<tr>\n",
       "  <th>sex_female</th>                 <td> 1.413e+13</td> <td> 7.13e+13</td> <td>    0.198</td> <td> 0.843</td> <td>-1.26e+14</td> <td> 1.54e+14</td>\n",
       "</tr>\n",
       "<tr>\n",
       "  <th>sex_male</th>                   <td> 1.413e+13</td> <td> 7.13e+13</td> <td>    0.198</td> <td> 0.843</td> <td>-1.26e+14</td> <td> 1.54e+14</td>\n",
       "</tr>\n",
       "<tr>\n",
       "  <th>age_15-24 years</th>            <td>-1.619e+14</td> <td> 2.62e+13</td> <td>   -6.190</td> <td> 0.000</td> <td>-2.13e+14</td> <td>-1.11e+14</td>\n",
       "</tr>\n",
       "<tr>\n",
       "  <th>age_25-34 years</th>            <td>-1.622e+14</td> <td> 2.62e+13</td> <td>   -6.190</td> <td> 0.000</td> <td>-2.14e+14</td> <td>-1.11e+14</td>\n",
       "</tr>\n",
       "<tr>\n",
       "  <th>age_35-54 years</th>            <td>-1.609e+14</td> <td>  2.6e+13</td> <td>   -6.190</td> <td> 0.000</td> <td>-2.12e+14</td> <td> -1.1e+14</td>\n",
       "</tr>\n",
       "<tr>\n",
       "  <th>age_5-14 years</th>             <td> -1.62e+14</td> <td> 2.62e+13</td> <td>   -6.190</td> <td> 0.000</td> <td>-2.13e+14</td> <td>-1.11e+14</td>\n",
       "</tr>\n",
       "<tr>\n",
       "  <th>age_55-74 years</th>            <td>-1.618e+14</td> <td> 2.61e+13</td> <td>   -6.190</td> <td> 0.000</td> <td>-2.13e+14</td> <td>-1.11e+14</td>\n",
       "</tr>\n",
       "<tr>\n",
       "  <th>age_75+ years</th>              <td>-1.626e+14</td> <td> 2.63e+13</td> <td>   -6.190</td> <td> 0.000</td> <td>-2.14e+14</td> <td>-1.11e+14</td>\n",
       "</tr>\n",
       "<tr>\n",
       "  <th>generation_Boomers</th>         <td> 3.472e+12</td> <td> 3.53e+12</td> <td>    0.984</td> <td> 0.325</td> <td>-3.44e+12</td> <td> 1.04e+13</td>\n",
       "</tr>\n",
       "<tr>\n",
       "  <th>generation_G.I. Generation</th> <td> 2.605e+12</td> <td> 2.65e+12</td> <td>    0.984</td> <td> 0.325</td> <td>-2.58e+12</td> <td> 7.79e+12</td>\n",
       "</tr>\n",
       "<tr>\n",
       "  <th>generation_Generation X</th>    <td> 4.187e+12</td> <td> 4.25e+12</td> <td>    0.984</td> <td> 0.325</td> <td>-4.15e+12</td> <td> 1.25e+13</td>\n",
       "</tr>\n",
       "<tr>\n",
       "  <th>generation_Generation Z</th>    <td> 2.854e+12</td> <td>  2.9e+12</td> <td>    0.984</td> <td> 0.325</td> <td>-2.83e+12</td> <td> 8.54e+12</td>\n",
       "</tr>\n",
       "<tr>\n",
       "  <th>generation_Millenials</th>      <td> 4.144e+12</td> <td> 4.21e+12</td> <td>    0.984</td> <td> 0.325</td> <td>-4.11e+12</td> <td> 1.24e+13</td>\n",
       "</tr>\n",
       "<tr>\n",
       "  <th>generation_Silent</th>          <td> 3.914e+12</td> <td> 3.98e+12</td> <td>    0.984</td> <td> 0.325</td> <td>-3.88e+12</td> <td> 1.17e+13</td>\n",
       "</tr>\n",
       "</table>\n",
       "<table class=\"simpletable\">\n",
       "<tr>\n",
       "  <th>Omnibus:</th>       <td>3446.420</td> <th>  Durbin-Watson:     </th> <td>   2.009</td> \n",
       "</tr>\n",
       "<tr>\n",
       "  <th>Prob(Omnibus):</th>  <td> 0.000</td>  <th>  Jarque-Bera (JB):  </th> <td>38545.977</td>\n",
       "</tr>\n",
       "<tr>\n",
       "  <th>Skew:</th>           <td> 2.413</td>  <th>  Prob(JB):          </th> <td>    0.00</td> \n",
       "</tr>\n",
       "<tr>\n",
       "  <th>Kurtosis:</th>       <td>14.144</td>  <th>  Cond. No.          </th> <td>2.32e+15</td> \n",
       "</tr>\n",
       "</table><br/><br/>Notes:<br/>[1] Standard Errors assume that the covariance matrix of the errors is correctly specified.<br/>[2] The smallest eigenvalue is 2.74e-27. This might indicate that there are<br/>strong multicollinearity problems or that the design matrix is singular."
      ],
      "text/plain": [
       "<class 'statsmodels.iolib.summary.Summary'>\n",
       "\"\"\"\n",
       "                            OLS Regression Results                            \n",
       "==============================================================================\n",
       "Dep. Variable:      suicides/100k pop   R-squared:                       0.368\n",
       "Model:                            OLS   Adj. R-squared:                  0.366\n",
       "Method:                 Least Squares   F-statistic:                     242.5\n",
       "Date:                Wed, 24 Nov 2021   Prob (F-statistic):               0.00\n",
       "Time:                        13:54:23   Log-Likelihood:                -25299.\n",
       "No. Observations:                6273   AIC:                         5.063e+04\n",
       "Df Residuals:                    6257   BIC:                         5.074e+04\n",
       "Df Model:                          15                                         \n",
       "Covariance Type:            nonrobust                                         \n",
       "==============================================================================================\n",
       "                                 coef    std err          t      P>|t|      [0.025      0.975]\n",
       "----------------------------------------------------------------------------------------------\n",
       "const                         12.0261      0.173     69.667      0.000      11.688      12.365\n",
       "suicides_no                    4.7528      0.294     16.157      0.000       4.176       5.329\n",
       "population                    -3.6468      0.255    -14.284      0.000      -4.147      -3.146\n",
       "HDI for year                   3.3696      0.279     12.071      0.000       2.822       3.917\n",
       "gdp_per_capita ($)            -2.4930      0.272     -9.176      0.000      -3.026      -1.960\n",
       "sex_female                  1.413e+13   7.13e+13      0.198      0.843   -1.26e+14    1.54e+14\n",
       "sex_male                    1.413e+13   7.13e+13      0.198      0.843   -1.26e+14    1.54e+14\n",
       "age_15-24 years            -1.619e+14   2.62e+13     -6.190      0.000   -2.13e+14   -1.11e+14\n",
       "age_25-34 years            -1.622e+14   2.62e+13     -6.190      0.000   -2.14e+14   -1.11e+14\n",
       "age_35-54 years            -1.609e+14    2.6e+13     -6.190      0.000   -2.12e+14    -1.1e+14\n",
       "age_5-14 years              -1.62e+14   2.62e+13     -6.190      0.000   -2.13e+14   -1.11e+14\n",
       "age_55-74 years            -1.618e+14   2.61e+13     -6.190      0.000   -2.13e+14   -1.11e+14\n",
       "age_75+ years              -1.626e+14   2.63e+13     -6.190      0.000   -2.14e+14   -1.11e+14\n",
       "generation_Boomers          3.472e+12   3.53e+12      0.984      0.325   -3.44e+12    1.04e+13\n",
       "generation_G.I. Generation  2.605e+12   2.65e+12      0.984      0.325   -2.58e+12    7.79e+12\n",
       "generation_Generation X     4.187e+12   4.25e+12      0.984      0.325   -4.15e+12    1.25e+13\n",
       "generation_Generation Z     2.854e+12    2.9e+12      0.984      0.325   -2.83e+12    8.54e+12\n",
       "generation_Millenials       4.144e+12   4.21e+12      0.984      0.325   -4.11e+12    1.24e+13\n",
       "generation_Silent           3.914e+12   3.98e+12      0.984      0.325   -3.88e+12    1.17e+13\n",
       "==============================================================================\n",
       "Omnibus:                     3446.420   Durbin-Watson:                   2.009\n",
       "Prob(Omnibus):                  0.000   Jarque-Bera (JB):            38545.977\n",
       "Skew:                           2.413   Prob(JB):                         0.00\n",
       "Kurtosis:                      14.144   Cond. No.                     2.32e+15\n",
       "==============================================================================\n",
       "\n",
       "Notes:\n",
       "[1] Standard Errors assume that the covariance matrix of the errors is correctly specified.\n",
       "[2] The smallest eigenvalue is 2.74e-27. This might indicate that there are\n",
       "strong multicollinearity problems or that the design matrix is singular.\n",
       "\"\"\""
      ]
     },
     "execution_count": 408,
     "metadata": {},
     "output_type": "execute_result"
    }
   ],
   "source": [
    "X_int = sm.add_constant(X_scaled)\n",
    "mod2 = sm.OLS(y_train, X_int.astype(float)).fit()\n",
    "mod2.summary()"
   ]
  },
  {
   "cell_type": "code",
   "execution_count": 194,
   "id": "civilian-healthcare",
   "metadata": {},
   "outputs": [
    {
     "data": {
      "text/html": [
       "<table class=\"simpletable\">\n",
       "<caption>OLS Regression Results</caption>\n",
       "<tr>\n",
       "  <th>Dep. Variable:</th>     <td>Happiness Score</td> <th>  R-squared:         </th> <td>   0.726</td> \n",
       "</tr>\n",
       "<tr>\n",
       "  <th>Model:</th>                   <td>OLS</td>       <th>  Adj. R-squared:    </th> <td>   0.724</td> \n",
       "</tr>\n",
       "<tr>\n",
       "  <th>Method:</th>             <td>Least Squares</td>  <th>  F-statistic:       </th> <td>   384.3</td> \n",
       "</tr>\n",
       "<tr>\n",
       "  <th>Date:</th>             <td>Wed, 24 Nov 2021</td> <th>  Prob (F-statistic):</th> <td>1.81e-161</td>\n",
       "</tr>\n",
       "<tr>\n",
       "  <th>Time:</th>                 <td>11:12:22</td>     <th>  Log-Likelihood:    </th> <td> -530.68</td> \n",
       "</tr>\n",
       "<tr>\n",
       "  <th>No. Observations:</th>      <td>   585</td>      <th>  AIC:               </th> <td>   1071.</td> \n",
       "</tr>\n",
       "<tr>\n",
       "  <th>Df Residuals:</th>          <td>   580</td>      <th>  BIC:               </th> <td>   1093.</td> \n",
       "</tr>\n",
       "<tr>\n",
       "  <th>Df Model:</th>              <td>     4</td>      <th>                     </th>     <td> </td>    \n",
       "</tr>\n",
       "<tr>\n",
       "  <th>Covariance Type:</th>      <td>nonrobust</td>    <th>                     </th>     <td> </td>    \n",
       "</tr>\n",
       "</table>\n",
       "<table class=\"simpletable\">\n",
       "<tr>\n",
       "                <td></td>                   <th>coef</th>     <th>std err</th>      <th>t</th>      <th>P>|t|</th>  <th>[0.025</th>    <th>0.975]</th>  \n",
       "</tr>\n",
       "<tr>\n",
       "  <th>const</th>                         <td>    5.3462</td> <td>    0.025</td> <td>  214.795</td> <td> 0.000</td> <td>    5.297</td> <td>    5.395</td>\n",
       "</tr>\n",
       "<tr>\n",
       "  <th>Economy (GDP per Capita)</th>      <td>    0.6513</td> <td>    0.033</td> <td>   19.823</td> <td> 0.000</td> <td>    0.587</td> <td>    0.716</td>\n",
       "</tr>\n",
       "<tr>\n",
       "  <th>Social support</th>                <td>    0.3562</td> <td>    0.031</td> <td>   11.401</td> <td> 0.000</td> <td>    0.295</td> <td>    0.418</td>\n",
       "</tr>\n",
       "<tr>\n",
       "  <th>Trust (Government Corruption)</th> <td>    0.1612</td> <td>    0.028</td> <td>    5.701</td> <td> 0.000</td> <td>    0.106</td> <td>    0.217</td>\n",
       "</tr>\n",
       "<tr>\n",
       "  <th>Generosity</th>                    <td>    0.1279</td> <td>    0.027</td> <td>    4.772</td> <td> 0.000</td> <td>    0.075</td> <td>    0.181</td>\n",
       "</tr>\n",
       "</table>\n",
       "<table class=\"simpletable\">\n",
       "<tr>\n",
       "  <th>Omnibus:</th>       <td> 1.052</td> <th>  Durbin-Watson:     </th> <td>   2.177</td>\n",
       "</tr>\n",
       "<tr>\n",
       "  <th>Prob(Omnibus):</th> <td> 0.591</td> <th>  Jarque-Bera (JB):  </th> <td>   1.141</td>\n",
       "</tr>\n",
       "<tr>\n",
       "  <th>Skew:</th>          <td>-0.092</td> <th>  Prob(JB):          </th> <td>   0.565</td>\n",
       "</tr>\n",
       "<tr>\n",
       "  <th>Kurtosis:</th>      <td> 2.886</td> <th>  Cond. No.          </th> <td>    2.20</td>\n",
       "</tr>\n",
       "</table><br/><br/>Notes:<br/>[1] Standard Errors assume that the covariance matrix of the errors is correctly specified."
      ],
      "text/plain": [
       "<class 'statsmodels.iolib.summary.Summary'>\n",
       "\"\"\"\n",
       "                            OLS Regression Results                            \n",
       "==============================================================================\n",
       "Dep. Variable:        Happiness Score   R-squared:                       0.726\n",
       "Model:                            OLS   Adj. R-squared:                  0.724\n",
       "Method:                 Least Squares   F-statistic:                     384.3\n",
       "Date:                Wed, 24 Nov 2021   Prob (F-statistic):          1.81e-161\n",
       "Time:                        11:12:22   Log-Likelihood:                -530.68\n",
       "No. Observations:                 585   AIC:                             1071.\n",
       "Df Residuals:                     580   BIC:                             1093.\n",
       "Df Model:                           4                                         \n",
       "Covariance Type:            nonrobust                                         \n",
       "=================================================================================================\n",
       "                                    coef    std err          t      P>|t|      [0.025      0.975]\n",
       "-------------------------------------------------------------------------------------------------\n",
       "const                             5.3462      0.025    214.795      0.000       5.297       5.395\n",
       "Economy (GDP per Capita)          0.6513      0.033     19.823      0.000       0.587       0.716\n",
       "Social support                    0.3562      0.031     11.401      0.000       0.295       0.418\n",
       "Trust (Government Corruption)     0.1612      0.028      5.701      0.000       0.106       0.217\n",
       "Generosity                        0.1279      0.027      4.772      0.000       0.075       0.181\n",
       "==============================================================================\n",
       "Omnibus:                        1.052   Durbin-Watson:                   2.177\n",
       "Prob(Omnibus):                  0.591   Jarque-Bera (JB):                1.141\n",
       "Skew:                          -0.092   Prob(JB):                        0.565\n",
       "Kurtosis:                       2.886   Cond. No.                         2.20\n",
       "==============================================================================\n",
       "\n",
       "Notes:\n",
       "[1] Standard Errors assume that the covariance matrix of the errors is correctly specified.\n",
       "\"\"\""
      ]
     },
     "execution_count": 194,
     "metadata": {},
     "output_type": "execute_result"
    }
   ],
   "source": [
    "X_scaled = (X_train - np.mean(X_train)) / np.std(X_train)\n",
    "X_int = sm.add_constant(X_scaled)\n",
    "mod4 = sm.OLS(y_train, X_int).fit()\n",
    "mod4.summary()"
   ]
  },
  {
   "cell_type": "code",
   "execution_count": 269,
   "id": "polished-proceeding",
   "metadata": {
    "tags": []
   },
   "outputs": [],
   "source": [
    "happydf.set_index(['Year'], inplace=True)"
   ]
  },
  {
   "cell_type": "code",
   "execution_count": 525,
   "id": "standard-horror",
   "metadata": {},
   "outputs": [],
   "source": [
    "arg = argentina['suicides/100k pop']"
   ]
  },
  {
   "cell_type": "code",
   "execution_count": 526,
   "id": "infinite-diabetes",
   "metadata": {},
   "outputs": [
    {
     "data": {
      "text/plain": [
       "Year\n",
       "1985-01-01      NaN\n",
       "1985-01-01    55.65\n",
       "1985-01-01    24.29\n",
       "1985-01-01    12.37\n",
       "1985-01-01     9.11\n",
       "              ...  \n",
       "2014-01-01     3.77\n",
       "2014-01-01     3.66\n",
       "2014-01-01     3.15\n",
       "2014-01-01     1.89\n",
       "2014-01-01     0.99\n",
       "Name: suicides/100k pop, Length: 120, dtype: float64"
      ]
     },
     "execution_count": 526,
     "metadata": {},
     "output_type": "execute_result"
    }
   ],
   "source": [
    "naive = arg.shift(1)\n",
    "naive"
   ]
  },
  {
   "cell_type": "code",
   "execution_count": 560,
   "id": "portable-camel",
   "metadata": {},
   "outputs": [
    {
     "data": {
      "image/png": "[encoded data removed]",
      "text/plain": [
       "<Figure size 432x288 with 1 Axes>"
      ]
     },
     "metadata": {
      "needs_background": "light"
     },
     "output_type": "display_data"
    }
   ],
   "source": [
    "fig, ax = plt.subplots()\n",
    "\n",
    "arg.plot(ax=ax, c='r', label='original')\n",
    "naive.plot(ax=ax, c='b', label='shifted')\n",
    "ax.set_title('naive')\n",
    "ax.legend();"
   ]
  },
  {
   "cell_type": "code",
   "execution_count": 561,
   "id": "smart-practice",
   "metadata": {},
   "outputs": [
    {
     "data": {
      "image/png": "[encoded data removed]",
      "text/plain": [
       "<Figure size 432x288 with 1 Axes>"
      ]
     },
     "metadata": {
      "needs_background": "light"
     },
     "output_type": "display_data"
    }
   ],
   "source": [
    "fig, ax = plt.subplots()\n",
    "residuals = naive[1:] - arg[1:]\n",
    "ax.plot(residuals.index, residuals)\n",
    "ax.plot(residuals.index, residuals.rolling(1).std());"
   ]
  },
  {
   "cell_type": "code",
   "execution_count": 530,
   "id": "tribal-sigma",
   "metadata": {},
   "outputs": [
    {
     "data": {
      "image/png": "[encoded data removed]",
      "text/plain": [
       "<Figure size 432x288 with 1 Axes>"
      ]
     },
     "metadata": {
      "needs_background": "light"
     },
     "output_type": "display_data"
    }
   ],
   "source": [
    "fig, ax = plt.subplots()\n",
    "\n",
    "ax.plot(residuals.index, residuals.rolling(30).var());"
   ]
  },
  {
   "cell_type": "code",
   "execution_count": 551,
   "id": "medical-photography",
   "metadata": {},
   "outputs": [
    {
     "name": "stdout",
     "output_type": "stream",
     "text": [
      "The p-value associated with the Dickey-Fuller statistical test is 5.822439649331705e-13,\n",
      " so we can safely assume that the differenced data is stationary.\n"
     ]
    }
   ],
   "source": [
    "p_val = adfuller(arg.diff()[1:])[1]\n",
    "print(f\"The p-value associated with the Dickey-Fuller statistical test is {p_val},\")\n",
    "if p_val < 0.05:\n",
    "    print(\" so we can safely assume that the differenced data is stationary.\")\n",
    "else:\n",
    "    print(\" so we cannot reject the null hypothesis that the differenced data is \\\n",
    "not stationary.\")"
   ]
  },
  {
   "cell_type": "code",
   "execution_count": 557,
   "id": "egyptian-teaching",
   "metadata": {},
   "outputs": [
    {
     "data": {
      "text/plain": [
       "Year\n",
       "1985-01-01     0.000000\n",
       "1985-01-01    55.648247\n",
       "1985-01-01    31.367922\n",
       "1985-01-01    15.060333\n",
       "1985-01-01     9.845779\n",
       "                ...    \n",
       "2014-01-01     4.277823\n",
       "2014-01-01     3.684827\n",
       "2014-01-01     3.265107\n",
       "2014-01-01     2.174381\n",
       "2014-01-01     1.193129\n",
       "Name: predicted_mean, Length: 120, dtype: float64"
      ]
     },
     "execution_count": 557,
     "metadata": {},
     "output_type": "execute_result"
    }
   ],
   "source": [
    "ar_1 = ARIMA(arg, order=(1, 1, 0)).fit()\n",
    "\n",
    "# We put a typ='levels' to convert our predictions to remove the differencing performed.\n",
    "ar_1.predict(typ='levels')"
   ]
  },
  {
   "cell_type": "code",
   "execution_count": 558,
   "id": "equal-heading",
   "metadata": {},
   "outputs": [
    {
     "data": {
      "text/html": [
       "<table class=\"simpletable\">\n",
       "<caption>SARIMAX Results</caption>\n",
       "<tr>\n",
       "  <th>Dep. Variable:</th>   <td>suicides/100k pop</td> <th>  No. Observations:  </th>    <td>120</td>  \n",
       "</tr>\n",
       "<tr>\n",
       "  <th>Model:</th>            <td>ARIMA(1, 1, 0)</td>   <th>  Log Likelihood     </th> <td>-459.609</td>\n",
       "</tr>\n",
       "<tr>\n",
       "  <th>Date:</th>            <td>Wed, 24 Nov 2021</td>  <th>  AIC                </th>  <td>923.217</td>\n",
       "</tr>\n",
       "<tr>\n",
       "  <th>Time:</th>                <td>15:37:23</td>      <th>  BIC                </th>  <td>928.776</td>\n",
       "</tr>\n",
       "<tr>\n",
       "  <th>Sample:</th>                  <td>0</td>         <th>  HQIC               </th>  <td>925.474</td>\n",
       "</tr>\n",
       "<tr>\n",
       "  <th></th>                      <td> - 120</td>       <th>                     </th>     <td> </td>   \n",
       "</tr>\n",
       "<tr>\n",
       "  <th>Covariance Type:</th>        <td>opg</td>        <th>                     </th>     <td> </td>   \n",
       "</tr>\n",
       "</table>\n",
       "<table class=\"simpletable\">\n",
       "<tr>\n",
       "     <td></td>       <th>coef</th>     <th>std err</th>      <th>z</th>      <th>P>|z|</th>  <th>[0.025</th>    <th>0.975]</th>  \n",
       "</tr>\n",
       "<tr>\n",
       "  <th>ar.L1</th>  <td>   -0.2257</td> <td>    0.083</td> <td>   -2.723</td> <td> 0.006</td> <td>   -0.388</td> <td>   -0.063</td>\n",
       "</tr>\n",
       "<tr>\n",
       "  <th>sigma2</th> <td>  132.4505</td> <td>    7.781</td> <td>   17.021</td> <td> 0.000</td> <td>  117.199</td> <td>  147.702</td>\n",
       "</tr>\n",
       "</table>\n",
       "<table class=\"simpletable\">\n",
       "<tr>\n",
       "  <th>Ljung-Box (L1) (Q):</th>     <td>0.13</td> <th>  Jarque-Bera (JB):  </th> <td>460.25</td>\n",
       "</tr>\n",
       "<tr>\n",
       "  <th>Prob(Q):</th>                <td>0.72</td> <th>  Prob(JB):          </th>  <td>0.00</td> \n",
       "</tr>\n",
       "<tr>\n",
       "  <th>Heteroskedasticity (H):</th> <td>0.27</td> <th>  Skew:              </th>  <td>2.48</td> \n",
       "</tr>\n",
       "<tr>\n",
       "  <th>Prob(H) (two-sided):</th>    <td>0.00</td> <th>  Kurtosis:          </th>  <td>11.26</td>\n",
       "</tr>\n",
       "</table><br/><br/>Warnings:<br/>[1] Covariance matrix calculated using the outer product of gradients (complex-step)."
      ],
      "text/plain": [
       "<class 'statsmodels.iolib.summary.Summary'>\n",
       "\"\"\"\n",
       "                               SARIMAX Results                                \n",
       "==============================================================================\n",
       "Dep. Variable:      suicides/100k pop   No. Observations:                  120\n",
       "Model:                 ARIMA(1, 1, 0)   Log Likelihood                -459.609\n",
       "Date:                Wed, 24 Nov 2021   AIC                            923.217\n",
       "Time:                        15:37:23   BIC                            928.776\n",
       "Sample:                             0   HQIC                           925.474\n",
       "                                - 120                                         \n",
       "Covariance Type:                  opg                                         \n",
       "==============================================================================\n",
       "                 coef    std err          z      P>|z|      [0.025      0.975]\n",
       "------------------------------------------------------------------------------\n",
       "ar.L1         -0.2257      0.083     -2.723      0.006      -0.388      -0.063\n",
       "sigma2       132.4505      7.781     17.021      0.000     117.199     147.702\n",
       "===================================================================================\n",
       "Ljung-Box (L1) (Q):                   0.13   Jarque-Bera (JB):               460.25\n",
       "Prob(Q):                              0.72   Prob(JB):                         0.00\n",
       "Heteroskedasticity (H):               0.27   Skew:                             2.48\n",
       "Prob(H) (two-sided):                  0.00   Kurtosis:                        11.26\n",
       "===================================================================================\n",
       "\n",
       "Warnings:\n",
       "[1] Covariance matrix calculated using the outer product of gradients (complex-step).\n",
       "\"\"\""
      ]
     },
     "execution_count": 558,
     "metadata": {},
     "output_type": "execute_result"
    }
   ],
   "source": [
    "ar_1.summary()"
   ]
  },
  {
   "cell_type": "code",
   "execution_count": null,
   "id": "first-calculation",
   "metadata": {},
   "outputs": [],
   "source": []
  }
 ],
 "metadata": {
  "kernelspec": {
   "display_name": "Python (learn-env)",
   "language": "python",
   "name": "learn-env"
  },
  "language_info": {
   "codemirror_mode": {
    "name": "ipython",
    "version": 3
   },
   "file_extension": ".py",
   "mimetype": "text/x-python",
   "name": "python",
   "nbconvert_exporter": "python",
   "pygments_lexer": "ipython3",
   "version": "3.8.5"
  }
 },
 "nbformat": 4,
 "nbformat_minor": 5
}
